{
  "nbformat": 4,
  "nbformat_minor": 0,
  "metadata": {
    "colab": {
      "name": "Copy of Project-2_Group_D.ipynb",
      "provenance": [],
      "collapsed_sections": [],
      "authorship_tag": "ABX9TyOzLWvbOWg+ifEaTll9VIWf",
      "include_colab_link": true
    },
    "kernelspec": {
      "name": "python3",
      "display_name": "Python 3"
    }
  },
  "cells": [
    {
      "cell_type": "markdown",
      "metadata": {
        "id": "view-in-github",
        "colab_type": "text"
      },
      "source": [
        "<a href=\"https://colab.research.google.com/github/dfu2020/ATMS-597-SP-2020-Project-2-Group-D/blob/master/Project_2_Group_D.ipynb\" target=\"_parent\"><img src=\"https://colab.research.google.com/assets/colab-badge.svg\" alt=\"Open In Colab\"/></a>"
      ]
    },
    {
      "cell_type": "code",
      "metadata": {
        "id": "kGqBobkDUXI6",
        "colab_type": "code",
        "colab": {}
      },
      "source": [
        "import pandas as pd\n",
        "import numpy as np\n",
        "import matplotlib.pyplot as plt"
      ],
      "execution_count": 0,
      "outputs": []
    },
    {
      "cell_type": "code",
      "metadata": {
        "id": "95qAOZFDVENR",
        "colab_type": "code",
        "colab": {}
      },
      "source": [
        "import requests\n",
        "\n",
        "def make_request(endpoint, payload=None):\n",
        "    \"\"\"\n",
        "    Make a request to a specific endpoint on the weather API\n",
        "    passing headers and optional payload.\n",
        "    \n",
        "    Parameters:\n",
        "        - endpoint: The endpoint of the API you want to \n",
        "                    make a GET request to.\n",
        "        - payload: A dictionary of data to pass along \n",
        "                   with the request.\n",
        "    \n",
        "    Returns:\n",
        "        Response object.\n",
        "    \"\"\"\n",
        "    return requests.get(\n",
        "        f'https://www.ncdc.noaa.gov/cdo-web/api/v2/{endpoint}',\n",
        "        headers={\n",
        "            'token': 'UZdWJQdqeSTqhkXeOlNYMGzbwUkFJAeh'\n",
        "        },\n",
        "        params=payload\n",
        "    )"
      ],
      "execution_count": 0,
      "outputs": []
    },
    {
      "cell_type": "code",
      "metadata": {
        "id": "ra9tTl-8VyMD",
        "colab_type": "code",
        "outputId": "d00bb2ef-32d2-4e96-fd1c-9aa1cb2e5b15",
        "colab": {
          "base_uri": "https://localhost:8080/",
          "height": 34
        }
      },
      "source": [
        "import datetime\n",
        "from dateutil.relativedelta import relativedelta\n",
        "\n",
        "from IPython import display # for updating the cell dynamically\n",
        "\n",
        "current = datetime.date(1900, 7, 1)\n",
        "end = datetime.date(2019, 7, 1)\n",
        "\n",
        "results = []\n",
        "\n",
        "while current < end:\n",
        "    # update the cell with status information\n",
        "    display.clear_output(wait=True)\n",
        "    display.display(f'Gathering data for {str(current)}')\n",
        "    \n",
        "    response = make_request(\n",
        "        'data', \n",
        "        {\n",
        "            'datasetid' : 'GHCND', # Global Historical Climatology Network - Daily (GHCND) dataset\n",
        "            'locationid' : 'CITY:US360019', # NYC\n",
        "            'startdate' : current,\n",
        "            'enddate' : current,\n",
        "            'units' : 'metric',\n",
        "            'limit' : 1000 # max allowed\n",
        "        }\n",
        "    )\n",
        "\n",
        "    if response.ok:\n",
        "        # we extend the list instead of appending to avoid getting a nested list\n",
        "        results.extend(response.json()['results'])\n",
        "\n",
        "    # update the current date to avoid an infinite loop\n",
        "    current += relativedelta(years=1)"
      ],
      "execution_count": 35,
      "outputs": [
        {
          "output_type": "display_data",
          "data": {
            "text/plain": [
              "'Gathering data for 2018-07-01'"
            ]
          },
          "metadata": {
            "tags": []
          }
        }
      ]
    },
    {
      "cell_type": "code",
      "metadata": {
        "id": "HyGHuOpHWKy5",
        "colab_type": "code",
        "outputId": "36b93240-3332-49a0-fe8c-fba9fbc4137f",
        "colab": {
          "base_uri": "https://localhost:8080/",
          "height": 204
        }
      },
      "source": [
        "df = pd.DataFrame(results)\n",
        "df.head()"
      ],
      "execution_count": 36,
      "outputs": [
        {
          "output_type": "execute_result",
          "data": {
            "text/html": [
              "<div>\n",
              "<style scoped>\n",
              "    .dataframe tbody tr th:only-of-type {\n",
              "        vertical-align: middle;\n",
              "    }\n",
              "\n",
              "    .dataframe tbody tr th {\n",
              "        vertical-align: top;\n",
              "    }\n",
              "\n",
              "    .dataframe thead th {\n",
              "        text-align: right;\n",
              "    }\n",
              "</style>\n",
              "<table border=\"1\" class=\"dataframe\">\n",
              "  <thead>\n",
              "    <tr style=\"text-align: right;\">\n",
              "      <th></th>\n",
              "      <th>date</th>\n",
              "      <th>datatype</th>\n",
              "      <th>station</th>\n",
              "      <th>attributes</th>\n",
              "      <th>value</th>\n",
              "    </tr>\n",
              "  </thead>\n",
              "  <tbody>\n",
              "    <tr>\n",
              "      <th>0</th>\n",
              "      <td>1900-07-01T00:00:00</td>\n",
              "      <td>PRCP</td>\n",
              "      <td>GHCND:USC00282644</td>\n",
              "      <td>P,,6,1700</td>\n",
              "      <td>0.0</td>\n",
              "    </tr>\n",
              "    <tr>\n",
              "      <th>1</th>\n",
              "      <td>1900-07-01T00:00:00</td>\n",
              "      <td>TMAX</td>\n",
              "      <td>GHCND:USC00282644</td>\n",
              "      <td>,,6,1700</td>\n",
              "      <td>26.7</td>\n",
              "    </tr>\n",
              "    <tr>\n",
              "      <th>2</th>\n",
              "      <td>1900-07-01T00:00:00</td>\n",
              "      <td>TMIN</td>\n",
              "      <td>GHCND:USC00282644</td>\n",
              "      <td>,,6,1700</td>\n",
              "      <td>12.2</td>\n",
              "    </tr>\n",
              "    <tr>\n",
              "      <th>3</th>\n",
              "      <td>1900-07-01T00:00:00</td>\n",
              "      <td>PRCP</td>\n",
              "      <td>GHCND:USC00286775</td>\n",
              "      <td>P,,6,0800</td>\n",
              "      <td>0.0</td>\n",
              "    </tr>\n",
              "    <tr>\n",
              "      <th>4</th>\n",
              "      <td>1900-07-01T00:00:00</td>\n",
              "      <td>TMAX</td>\n",
              "      <td>GHCND:USC00286775</td>\n",
              "      <td>,,6,0800</td>\n",
              "      <td>26.7</td>\n",
              "    </tr>\n",
              "  </tbody>\n",
              "</table>\n",
              "</div>"
            ],
            "text/plain": [
              "                  date datatype            station attributes  value\n",
              "0  1900-07-01T00:00:00     PRCP  GHCND:USC00282644  P,,6,1700    0.0\n",
              "1  1900-07-01T00:00:00     TMAX  GHCND:USC00282644   ,,6,1700   26.7\n",
              "2  1900-07-01T00:00:00     TMIN  GHCND:USC00282644   ,,6,1700   12.2\n",
              "3  1900-07-01T00:00:00     PRCP  GHCND:USC00286775  P,,6,0800    0.0\n",
              "4  1900-07-01T00:00:00     TMAX  GHCND:USC00286775   ,,6,0800   26.7"
            ]
          },
          "metadata": {
            "tags": []
          },
          "execution_count": 36
        }
      ]
    },
    {
      "cell_type": "code",
      "metadata": {
        "id": "6qmQ_KQvYdzh",
        "colab_type": "code",
        "colab": {}
      },
      "source": [
        "df.to_csv('nyc_weather_1900_2018.csv', index=False)"
      ],
      "execution_count": 0,
      "outputs": []
    },
    {
      "cell_type": "code",
      "metadata": {
        "id": "q949jI-uYnUR",
        "colab_type": "code",
        "outputId": "9dd57aef-c948-4ee6-eb9e-34e5042f7489",
        "colab": {
          "base_uri": "https://localhost:8080/",
          "height": 450
        }
      },
      "source": [
        "weather = pd.read_csv('nyc_weather_1900_2018.csv',index_col='date', parse_dates=['date'])\n",
        "tobs_data = weather.query('datatype == \"TMIN\"')\n",
        "tobs_data"
      ],
      "execution_count": 46,
      "outputs": [
        {
          "output_type": "execute_result",
          "data": {
            "text/html": [
              "<div>\n",
              "<style scoped>\n",
              "    .dataframe tbody tr th:only-of-type {\n",
              "        vertical-align: middle;\n",
              "    }\n",
              "\n",
              "    .dataframe tbody tr th {\n",
              "        vertical-align: top;\n",
              "    }\n",
              "\n",
              "    .dataframe thead th {\n",
              "        text-align: right;\n",
              "    }\n",
              "</style>\n",
              "<table border=\"1\" class=\"dataframe\">\n",
              "  <thead>\n",
              "    <tr style=\"text-align: right;\">\n",
              "      <th></th>\n",
              "      <th>datatype</th>\n",
              "      <th>station</th>\n",
              "      <th>attributes</th>\n",
              "      <th>value</th>\n",
              "    </tr>\n",
              "    <tr>\n",
              "      <th>date</th>\n",
              "      <th></th>\n",
              "      <th></th>\n",
              "      <th></th>\n",
              "      <th></th>\n",
              "    </tr>\n",
              "  </thead>\n",
              "  <tbody>\n",
              "    <tr>\n",
              "      <th>1900-07-01</th>\n",
              "      <td>TMIN</td>\n",
              "      <td>GHCND:USC00282644</td>\n",
              "      <td>,,6,1700</td>\n",
              "      <td>12.2</td>\n",
              "    </tr>\n",
              "    <tr>\n",
              "      <th>1900-07-01</th>\n",
              "      <td>TMIN</td>\n",
              "      <td>GHCND:USC00286775</td>\n",
              "      <td>,,6,0800</td>\n",
              "      <td>12.2</td>\n",
              "    </tr>\n",
              "    <tr>\n",
              "      <th>1900-07-01</th>\n",
              "      <td>TMIN</td>\n",
              "      <td>GHCND:USC00287079</td>\n",
              "      <td>,,6,1900</td>\n",
              "      <td>11.7</td>\n",
              "    </tr>\n",
              "    <tr>\n",
              "      <th>1900-07-01</th>\n",
              "      <td>TMIN</td>\n",
              "      <td>GHCND:USC00305540</td>\n",
              "      <td>,,6,</td>\n",
              "      <td>14.4</td>\n",
              "    </tr>\n",
              "    <tr>\n",
              "      <th>1900-07-01</th>\n",
              "      <td>TMIN</td>\n",
              "      <td>GHCND:USW00014734</td>\n",
              "      <td>,,Z,</td>\n",
              "      <td>12.8</td>\n",
              "    </tr>\n",
              "    <tr>\n",
              "      <th>...</th>\n",
              "      <td>...</td>\n",
              "      <td>...</td>\n",
              "      <td>...</td>\n",
              "      <td>...</td>\n",
              "    </tr>\n",
              "    <tr>\n",
              "      <th>2018-07-01</th>\n",
              "      <td>TMIN</td>\n",
              "      <td>GHCND:USW00054787</td>\n",
              "      <td>,,W,</td>\n",
              "      <td>22.8</td>\n",
              "    </tr>\n",
              "    <tr>\n",
              "      <th>2018-07-01</th>\n",
              "      <td>TMIN</td>\n",
              "      <td>GHCND:USW00094728</td>\n",
              "      <td>,,W,2400</td>\n",
              "      <td>26.1</td>\n",
              "    </tr>\n",
              "    <tr>\n",
              "      <th>2018-07-01</th>\n",
              "      <td>TMIN</td>\n",
              "      <td>GHCND:USW00094741</td>\n",
              "      <td>,,W,</td>\n",
              "      <td>24.4</td>\n",
              "    </tr>\n",
              "    <tr>\n",
              "      <th>2018-07-01</th>\n",
              "      <td>TMIN</td>\n",
              "      <td>GHCND:USW00094745</td>\n",
              "      <td>,,W,2400</td>\n",
              "      <td>21.7</td>\n",
              "    </tr>\n",
              "    <tr>\n",
              "      <th>2018-07-01</th>\n",
              "      <td>TMIN</td>\n",
              "      <td>GHCND:USW00094789</td>\n",
              "      <td>,,W,2400</td>\n",
              "      <td>22.8</td>\n",
              "    </tr>\n",
              "  </tbody>\n",
              "</table>\n",
              "<p>2293 rows × 4 columns</p>\n",
              "</div>"
            ],
            "text/plain": [
              "           datatype            station attributes  value\n",
              "date                                                    \n",
              "1900-07-01     TMIN  GHCND:USC00282644   ,,6,1700   12.2\n",
              "1900-07-01     TMIN  GHCND:USC00286775   ,,6,0800   12.2\n",
              "1900-07-01     TMIN  GHCND:USC00287079   ,,6,1900   11.7\n",
              "1900-07-01     TMIN  GHCND:USC00305540       ,,6,   14.4\n",
              "1900-07-01     TMIN  GHCND:USW00014734       ,,Z,   12.8\n",
              "...             ...                ...        ...    ...\n",
              "2018-07-01     TMIN  GHCND:USW00054787       ,,W,   22.8\n",
              "2018-07-01     TMIN  GHCND:USW00094728   ,,W,2400   26.1\n",
              "2018-07-01     TMIN  GHCND:USW00094741       ,,W,   24.4\n",
              "2018-07-01     TMIN  GHCND:USW00094745   ,,W,2400   21.7\n",
              "2018-07-01     TMIN  GHCND:USW00094789   ,,W,2400   22.8\n",
              "\n",
              "[2293 rows x 4 columns]"
            ]
          },
          "metadata": {
            "tags": []
          },
          "execution_count": 46
        }
      ]
    },
    {
      "cell_type": "code",
      "metadata": {
        "id": "2z1AoXgjYyGY",
        "colab_type": "code",
        "colab": {
          "base_uri": "https://localhost:8080/",
          "height": 450
        },
        "outputId": "563c9b3d-0e22-45d9-aed1-af81a19703da"
      },
      "source": [
        "mean_tmin = tobs_data.groupby('date').mean()\n",
        "mean_tmin"
      ],
      "execution_count": 49,
      "outputs": [
        {
          "output_type": "execute_result",
          "data": {
            "text/html": [
              "<div>\n",
              "<style scoped>\n",
              "    .dataframe tbody tr th:only-of-type {\n",
              "        vertical-align: middle;\n",
              "    }\n",
              "\n",
              "    .dataframe tbody tr th {\n",
              "        vertical-align: top;\n",
              "    }\n",
              "\n",
              "    .dataframe thead th {\n",
              "        text-align: right;\n",
              "    }\n",
              "</style>\n",
              "<table border=\"1\" class=\"dataframe\">\n",
              "  <thead>\n",
              "    <tr style=\"text-align: right;\">\n",
              "      <th></th>\n",
              "      <th>value</th>\n",
              "    </tr>\n",
              "    <tr>\n",
              "      <th>date</th>\n",
              "      <th></th>\n",
              "    </tr>\n",
              "  </thead>\n",
              "  <tbody>\n",
              "    <tr>\n",
              "      <th>1900-07-01</th>\n",
              "      <td>12.766667</td>\n",
              "    </tr>\n",
              "    <tr>\n",
              "      <th>1901-07-01</th>\n",
              "      <td>23.616667</td>\n",
              "    </tr>\n",
              "    <tr>\n",
              "      <th>1902-07-01</th>\n",
              "      <td>15.583333</td>\n",
              "    </tr>\n",
              "    <tr>\n",
              "      <th>1903-07-01</th>\n",
              "      <td>20.100000</td>\n",
              "    </tr>\n",
              "    <tr>\n",
              "      <th>1904-07-01</th>\n",
              "      <td>19.312500</td>\n",
              "    </tr>\n",
              "    <tr>\n",
              "      <th>...</th>\n",
              "      <td>...</td>\n",
              "    </tr>\n",
              "    <tr>\n",
              "      <th>2014-07-01</th>\n",
              "      <td>20.600000</td>\n",
              "    </tr>\n",
              "    <tr>\n",
              "      <th>2015-07-01</th>\n",
              "      <td>19.728571</td>\n",
              "    </tr>\n",
              "    <tr>\n",
              "      <th>2016-07-01</th>\n",
              "      <td>18.642857</td>\n",
              "    </tr>\n",
              "    <tr>\n",
              "      <th>2017-07-01</th>\n",
              "      <td>21.071429</td>\n",
              "    </tr>\n",
              "    <tr>\n",
              "      <th>2018-07-01</th>\n",
              "      <td>23.016667</td>\n",
              "    </tr>\n",
              "  </tbody>\n",
              "</table>\n",
              "<p>119 rows × 1 columns</p>\n",
              "</div>"
            ],
            "text/plain": [
              "                value\n",
              "date                 \n",
              "1900-07-01  12.766667\n",
              "1901-07-01  23.616667\n",
              "1902-07-01  15.583333\n",
              "1903-07-01  20.100000\n",
              "1904-07-01  19.312500\n",
              "...               ...\n",
              "2014-07-01  20.600000\n",
              "2015-07-01  19.728571\n",
              "2016-07-01  18.642857\n",
              "2017-07-01  21.071429\n",
              "2018-07-01  23.016667\n",
              "\n",
              "[119 rows x 1 columns]"
            ]
          },
          "metadata": {
            "tags": []
          },
          "execution_count": 49
        }
      ]
    },
    {
      "cell_type": "code",
      "metadata": {
        "id": "GA9f0Xvn3PcU",
        "colab_type": "code",
        "colab": {}
      },
      "source": [
        ""
      ],
      "execution_count": 0,
      "outputs": []
    },
    {
      "cell_type": "code",
      "metadata": {
        "id": "zHq3Ei7J4F_9",
        "colab_type": "code",
        "colab": {}
      },
      "source": [
        ""
      ],
      "execution_count": 0,
      "outputs": []
    },
    {
      "cell_type": "code",
      "metadata": {
        "id": "rzDgFSO14-ep",
        "colab_type": "code",
        "colab": {}
      },
      "source": [
        ""
      ],
      "execution_count": 0,
      "outputs": []
    }
  ]
}